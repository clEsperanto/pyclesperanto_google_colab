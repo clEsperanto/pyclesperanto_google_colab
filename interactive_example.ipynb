{
  "nbformat": 4,
  "nbformat_minor": 0,
  "metadata": {
    "colab": {
      "name": "interactive_example.ipynb",
      "provenance": []
    },
    "kernelspec": {
      "name": "python3",
      "display_name": "Python 3"
    },
    "language_info": {
      "name": "python"
    },
    "accelerator": "GPU",
    "widgets": {
      "application/vnd.jupyter.widget-state+json": {
        "fdd56eea89ec483b919a0bb2c38876c4": {
          "model_module": "@jupyter-widgets/controls",
          "model_name": "ImageModel",
          "state": {
            "_view_name": "ImageView",
            "_dom_classes": [],
            "_model_name": "ImageModel",
            "format": "jpeg",
            "_view_module": "@jupyter-widgets/controls",
            "_model_module_version": "1.5.0",
            "_view_count": null,
            "width": "",
            "_view_module_version": "1.5.0",
            "layout": "IPY_MODEL_29b1f19b190d4d0782258155474e89c3",
            "height": "",
            "_model_module": "@jupyter-widgets/controls"
          }
        },
        "29b1f19b190d4d0782258155474e89c3": {
          "model_module": "@jupyter-widgets/base",
          "model_name": "LayoutModel",
          "state": {
            "_view_name": "LayoutView",
            "grid_template_rows": null,
            "right": null,
            "justify_content": null,
            "_view_module": "@jupyter-widgets/base",
            "overflow": null,
            "_model_module_version": "1.2.0",
            "_view_count": null,
            "flex_flow": null,
            "width": null,
            "min_width": null,
            "border": null,
            "align_items": null,
            "bottom": null,
            "_model_module": "@jupyter-widgets/base",
            "top": null,
            "grid_column": null,
            "overflow_y": null,
            "overflow_x": null,
            "grid_auto_flow": null,
            "grid_area": null,
            "grid_template_columns": null,
            "flex": null,
            "_model_name": "LayoutModel",
            "justify_items": null,
            "grid_row": null,
            "max_height": null,
            "align_content": null,
            "visibility": null,
            "align_self": null,
            "height": null,
            "min_height": null,
            "padding": null,
            "grid_auto_rows": null,
            "grid_gap": null,
            "max_width": null,
            "order": null,
            "_view_module_version": "1.2.0",
            "grid_template_areas": null,
            "object_position": null,
            "object_fit": null,
            "grid_auto_columns": null,
            "margin": null,
            "display": null,
            "left": null
          }
        },
        "f25741280e924c56b3c8a3a6388602ce": {
          "model_module": "@jupyter-widgets/controls",
          "model_name": "FloatSliderModel",
          "state": {
            "_view_name": "FloatSliderView",
            "style": "IPY_MODEL_d4102d2870364fbb86ffc6f7a3667d41",
            "_dom_classes": [],
            "description": "",
            "step": 0.1,
            "_model_name": "FloatSliderModel",
            "orientation": "horizontal",
            "max": 10,
            "_view_module": "@jupyter-widgets/controls",
            "_model_module_version": "1.5.0",
            "value": 3.8,
            "_view_count": null,
            "disabled": false,
            "_view_module_version": "1.5.0",
            "min": 0,
            "continuous_update": true,
            "readout_format": ".2f",
            "description_tooltip": null,
            "readout": true,
            "_model_module": "@jupyter-widgets/controls",
            "layout": "IPY_MODEL_98ba8d1ac0a5406da252d996990853f1"
          }
        },
        "d4102d2870364fbb86ffc6f7a3667d41": {
          "model_module": "@jupyter-widgets/controls",
          "model_name": "SliderStyleModel",
          "state": {
            "_view_name": "StyleView",
            "handle_color": null,
            "_model_name": "SliderStyleModel",
            "description_width": "",
            "_view_module": "@jupyter-widgets/base",
            "_model_module_version": "1.5.0",
            "_view_count": null,
            "_view_module_version": "1.2.0",
            "_model_module": "@jupyter-widgets/controls"
          }
        },
        "98ba8d1ac0a5406da252d996990853f1": {
          "model_module": "@jupyter-widgets/base",
          "model_name": "LayoutModel",
          "state": {
            "_view_name": "LayoutView",
            "grid_template_rows": null,
            "right": null,
            "justify_content": null,
            "_view_module": "@jupyter-widgets/base",
            "overflow": null,
            "_model_module_version": "1.2.0",
            "_view_count": null,
            "flex_flow": null,
            "width": null,
            "min_width": null,
            "border": null,
            "align_items": null,
            "bottom": null,
            "_model_module": "@jupyter-widgets/base",
            "top": null,
            "grid_column": null,
            "overflow_y": null,
            "overflow_x": null,
            "grid_auto_flow": null,
            "grid_area": null,
            "grid_template_columns": null,
            "flex": null,
            "_model_name": "LayoutModel",
            "justify_items": null,
            "grid_row": null,
            "max_height": null,
            "align_content": null,
            "visibility": null,
            "align_self": null,
            "height": null,
            "min_height": null,
            "padding": null,
            "grid_auto_rows": null,
            "grid_gap": null,
            "max_width": null,
            "order": null,
            "_view_module_version": "1.2.0",
            "grid_template_areas": null,
            "object_position": null,
            "object_fit": null,
            "grid_auto_columns": null,
            "margin": null,
            "display": null,
            "left": null
          }
        }
      }
    }
  },
  "cells": [
    {
      "cell_type": "code",
      "metadata": {
        "colab": {
          "base_uri": "https://localhost:8080/"
        },
        "id": "OpfVvxAK7LBB",
        "outputId": "ac552942-bf8f-4e04-ce5a-ee9709311e2f"
      },
      "source": [
        "!pip install pyclesperanto_prototype ipywidgets numpy_image_widget"
      ],
      "execution_count": 1,
      "outputs": [
        {
          "output_type": "stream",
          "text": [
            "Collecting pyclesperanto_prototype\n",
            "\u001b[?25l  Downloading https://files.pythonhosted.org/packages/55/ee/c9d3e04a4dc6d440762d663715256095341a8e35bee37c3d2438690345ba/pyclesperanto_prototype-0.9.1-py3-none-any.whl (547kB)\n",
            "\r\u001b[K     |▋                               | 10kB 20.6MB/s eta 0:00:01\r\u001b[K     |█▏                              | 20kB 28.0MB/s eta 0:00:01\r\u001b[K     |█▉                              | 30kB 20.7MB/s eta 0:00:01\r\u001b[K     |██▍                             | 40kB 22.7MB/s eta 0:00:01\r\u001b[K     |███                             | 51kB 23.2MB/s eta 0:00:01\r\u001b[K     |███▋                            | 61kB 20.4MB/s eta 0:00:01\r\u001b[K     |████▏                           | 71kB 21.4MB/s eta 0:00:01\r\u001b[K     |████▉                           | 81kB 22.3MB/s eta 0:00:01\r\u001b[K     |█████▍                          | 92kB 20.3MB/s eta 0:00:01\r\u001b[K     |██████                          | 102kB 21.4MB/s eta 0:00:01\r\u001b[K     |██████▋                         | 112kB 21.4MB/s eta 0:00:01\r\u001b[K     |███████▏                        | 122kB 21.4MB/s eta 0:00:01\r\u001b[K     |███████▉                        | 133kB 21.4MB/s eta 0:00:01\r\u001b[K     |████████▍                       | 143kB 21.4MB/s eta 0:00:01\r\u001b[K     |█████████                       | 153kB 21.4MB/s eta 0:00:01\r\u001b[K     |█████████▋                      | 163kB 21.4MB/s eta 0:00:01\r\u001b[K     |██████████▏                     | 174kB 21.4MB/s eta 0:00:01\r\u001b[K     |██████████▊                     | 184kB 21.4MB/s eta 0:00:01\r\u001b[K     |███████████▍                    | 194kB 21.4MB/s eta 0:00:01\r\u001b[K     |████████████                    | 204kB 21.4MB/s eta 0:00:01\r\u001b[K     |████████████▋                   | 215kB 21.4MB/s eta 0:00:01\r\u001b[K     |█████████████▏                  | 225kB 21.4MB/s eta 0:00:01\r\u001b[K     |█████████████▊                  | 235kB 21.4MB/s eta 0:00:01\r\u001b[K     |██████████████▍                 | 245kB 21.4MB/s eta 0:00:01\r\u001b[K     |███████████████                 | 256kB 21.4MB/s eta 0:00:01\r\u001b[K     |███████████████▋                | 266kB 21.4MB/s eta 0:00:01\r\u001b[K     |████████████████▏               | 276kB 21.4MB/s eta 0:00:01\r\u001b[K     |████████████████▊               | 286kB 21.4MB/s eta 0:00:01\r\u001b[K     |█████████████████▍              | 296kB 21.4MB/s eta 0:00:01\r\u001b[K     |██████████████████              | 307kB 21.4MB/s eta 0:00:01\r\u001b[K     |██████████████████▌             | 317kB 21.4MB/s eta 0:00:01\r\u001b[K     |███████████████████▏            | 327kB 21.4MB/s eta 0:00:01\r\u001b[K     |███████████████████▊            | 337kB 21.4MB/s eta 0:00:01\r\u001b[K     |████████████████████▍           | 348kB 21.4MB/s eta 0:00:01\r\u001b[K     |█████████████████████           | 358kB 21.4MB/s eta 0:00:01\r\u001b[K     |█████████████████████▌          | 368kB 21.4MB/s eta 0:00:01\r\u001b[K     |██████████████████████▏         | 378kB 21.4MB/s eta 0:00:01\r\u001b[K     |██████████████████████▊         | 389kB 21.4MB/s eta 0:00:01\r\u001b[K     |███████████████████████▍        | 399kB 21.4MB/s eta 0:00:01\r\u001b[K     |████████████████████████        | 409kB 21.4MB/s eta 0:00:01\r\u001b[K     |████████████████████████▌       | 419kB 21.4MB/s eta 0:00:01\r\u001b[K     |█████████████████████████▏      | 430kB 21.4MB/s eta 0:00:01\r\u001b[K     |█████████████████████████▊      | 440kB 21.4MB/s eta 0:00:01\r\u001b[K     |██████████████████████████▍     | 450kB 21.4MB/s eta 0:00:01\r\u001b[K     |███████████████████████████     | 460kB 21.4MB/s eta 0:00:01\r\u001b[K     |███████████████████████████▌    | 471kB 21.4MB/s eta 0:00:01\r\u001b[K     |████████████████████████████▏   | 481kB 21.4MB/s eta 0:00:01\r\u001b[K     |████████████████████████████▊   | 491kB 21.4MB/s eta 0:00:01\r\u001b[K     |█████████████████████████████▎  | 501kB 21.4MB/s eta 0:00:01\r\u001b[K     |██████████████████████████████  | 512kB 21.4MB/s eta 0:00:01\r\u001b[K     |██████████████████████████████▌ | 522kB 21.4MB/s eta 0:00:01\r\u001b[K     |███████████████████████████████▏| 532kB 21.4MB/s eta 0:00:01\r\u001b[K     |███████████████████████████████▊| 542kB 21.4MB/s eta 0:00:01\r\u001b[K     |████████████████████████████████| 552kB 21.4MB/s \n",
            "\u001b[?25hRequirement already satisfied: ipywidgets in /usr/local/lib/python3.7/dist-packages (7.6.3)\n",
            "Collecting numpy_image_widget\n",
            "  Downloading https://files.pythonhosted.org/packages/09/65/d790cdec593fe2052fc20a25bc5ff0ede53a9fc78a942494bc6706b9327e/numpy_image_widget-2020.7.21-py3-none-any.whl\n",
            "Collecting transforms3d\n",
            "\u001b[?25l  Downloading https://files.pythonhosted.org/packages/b5/f7/e85809168a548a854d7c1331560c27b4f5381698d29c12e57759192b2bc1/transforms3d-0.3.1.tar.gz (62kB)\n",
            "\u001b[K     |████████████████████████████████| 71kB 11.4MB/s \n",
            "\u001b[?25hRequirement already satisfied: toolz in /usr/local/lib/python3.7/dist-packages (from pyclesperanto_prototype) (0.11.1)\n",
            "Requirement already satisfied: matplotlib in /usr/local/lib/python3.7/dist-packages (from pyclesperanto_prototype) (3.2.2)\n",
            "Collecting scikit-image>=0.18.0\n",
            "\u001b[?25l  Downloading https://files.pythonhosted.org/packages/fe/01/3a830f3df578ea3ed94ee7fd9f91e85c3dec2431d8548ab1c91869e51450/scikit_image-0.18.1-cp37-cp37m-manylinux1_x86_64.whl (29.2MB)\n",
            "\u001b[K     |████████████████████████████████| 29.2MB 104kB/s \n",
            "\u001b[?25hCollecting pyopencl\n",
            "\u001b[?25l  Downloading https://files.pythonhosted.org/packages/54/f3/dff518aac1a06c9f1a2e9f95c6914524162f1f70652649596861e85fafb3/pyopencl-2021.2.2-cp37-cp37m-manylinux_2_17_x86_64.manylinux2014_x86_64.whl (879kB)\n",
            "\u001b[K     |████████████████████████████████| 880kB 26.2MB/s \n",
            "\u001b[?25hRequirement already satisfied: numpy!=1.19.4 in /usr/local/lib/python3.7/dist-packages (from pyclesperanto_prototype) (1.19.5)\n",
            "Requirement already satisfied: jupyterlab-widgets>=1.0.0; python_version >= \"3.6\" in /usr/local/lib/python3.7/dist-packages (from ipywidgets) (1.0.0)\n",
            "Requirement already satisfied: traitlets>=4.3.1 in /usr/local/lib/python3.7/dist-packages (from ipywidgets) (5.0.5)\n",
            "Requirement already satisfied: ipykernel>=4.5.1 in /usr/local/lib/python3.7/dist-packages (from ipywidgets) (4.10.1)\n",
            "Requirement already satisfied: ipython>=4.0.0; python_version >= \"3.3\" in /usr/local/lib/python3.7/dist-packages (from ipywidgets) (5.5.0)\n",
            "Requirement already satisfied: nbformat>=4.2.0 in /usr/local/lib/python3.7/dist-packages (from ipywidgets) (5.1.3)\n",
            "Requirement already satisfied: widgetsnbextension~=3.5.0 in /usr/local/lib/python3.7/dist-packages (from ipywidgets) (3.5.1)\n",
            "Collecting ipyevents\n",
            "\u001b[?25l  Downloading https://files.pythonhosted.org/packages/ba/b5/b5861db870aa465be738996da9833fdf39e395b9aa0802ed2fc347297ae8/ipyevents-0.8.2-py2.py3-none-any.whl (133kB)\n",
            "\u001b[K     |████████████████████████████████| 143kB 60.0MB/s \n",
            "\u001b[?25hCollecting image-attendant\n",
            "  Downloading https://files.pythonhosted.org/packages/b9/e8/7e9f1213acd617995145c747fb0f841d4d04867213f755cf06889887cab9/image_attendant-2020.7.29-py2.py3-none-any.whl\n",
            "Requirement already satisfied: pyparsing!=2.0.4,!=2.1.2,!=2.1.6,>=2.0.1 in /usr/local/lib/python3.7/dist-packages (from matplotlib->pyclesperanto_prototype) (2.4.7)\n",
            "Requirement already satisfied: cycler>=0.10 in /usr/local/lib/python3.7/dist-packages (from matplotlib->pyclesperanto_prototype) (0.10.0)\n",
            "Requirement already satisfied: python-dateutil>=2.1 in /usr/local/lib/python3.7/dist-packages (from matplotlib->pyclesperanto_prototype) (2.8.1)\n",
            "Requirement already satisfied: kiwisolver>=1.0.1 in /usr/local/lib/python3.7/dist-packages (from matplotlib->pyclesperanto_prototype) (1.3.1)\n",
            "Requirement already satisfied: networkx>=2.0 in /usr/local/lib/python3.7/dist-packages (from scikit-image>=0.18.0->pyclesperanto_prototype) (2.5.1)\n",
            "Requirement already satisfied: imageio>=2.3.0 in /usr/local/lib/python3.7/dist-packages (from scikit-image>=0.18.0->pyclesperanto_prototype) (2.4.1)\n",
            "Requirement already satisfied: scipy>=1.0.1 in /usr/local/lib/python3.7/dist-packages (from scikit-image>=0.18.0->pyclesperanto_prototype) (1.4.1)\n",
            "Requirement already satisfied: tifffile>=2019.7.26 in /usr/local/lib/python3.7/dist-packages (from scikit-image>=0.18.0->pyclesperanto_prototype) (2021.4.8)\n",
            "Requirement already satisfied: pillow!=7.1.0,!=7.1.1,>=4.3.0 in /usr/local/lib/python3.7/dist-packages (from scikit-image>=0.18.0->pyclesperanto_prototype) (7.1.2)\n",
            "Requirement already satisfied: PyWavelets>=1.1.1 in /usr/local/lib/python3.7/dist-packages (from scikit-image>=0.18.0->pyclesperanto_prototype) (1.1.1)\n",
            "Requirement already satisfied: appdirs>=1.4.0 in /usr/local/lib/python3.7/dist-packages (from pyopencl->pyclesperanto_prototype) (1.4.4)\n",
            "Collecting pytools>=2017.6\n",
            "\u001b[?25l  Downloading https://files.pythonhosted.org/packages/52/26/c7ab098ceb4e4e3f0e66e21257a286bb455ea22af7afefbd704d9ccf324c/pytools-2021.2.7.tar.gz (63kB)\n",
            "\u001b[K     |████████████████████████████████| 71kB 11.0MB/s \n",
            "\u001b[?25hRequirement already satisfied: ipython-genutils in /usr/local/lib/python3.7/dist-packages (from traitlets>=4.3.1->ipywidgets) (0.2.0)\n",
            "Requirement already satisfied: jupyter-client in /usr/local/lib/python3.7/dist-packages (from ipykernel>=4.5.1->ipywidgets) (5.3.5)\n",
            "Requirement already satisfied: tornado>=4.0 in /usr/local/lib/python3.7/dist-packages (from ipykernel>=4.5.1->ipywidgets) (5.1.1)\n",
            "Requirement already satisfied: pygments in /usr/local/lib/python3.7/dist-packages (from ipython>=4.0.0; python_version >= \"3.3\"->ipywidgets) (2.6.1)\n",
            "Requirement already satisfied: setuptools>=18.5 in /usr/local/lib/python3.7/dist-packages (from ipython>=4.0.0; python_version >= \"3.3\"->ipywidgets) (57.0.0)\n",
            "Requirement already satisfied: prompt-toolkit<2.0.0,>=1.0.4 in /usr/local/lib/python3.7/dist-packages (from ipython>=4.0.0; python_version >= \"3.3\"->ipywidgets) (1.0.18)\n",
            "Requirement already satisfied: pickleshare in /usr/local/lib/python3.7/dist-packages (from ipython>=4.0.0; python_version >= \"3.3\"->ipywidgets) (0.7.5)\n",
            "Requirement already satisfied: simplegeneric>0.8 in /usr/local/lib/python3.7/dist-packages (from ipython>=4.0.0; python_version >= \"3.3\"->ipywidgets) (0.8.1)\n",
            "Requirement already satisfied: decorator in /usr/local/lib/python3.7/dist-packages (from ipython>=4.0.0; python_version >= \"3.3\"->ipywidgets) (4.4.2)\n",
            "Requirement already satisfied: pexpect; sys_platform != \"win32\" in /usr/local/lib/python3.7/dist-packages (from ipython>=4.0.0; python_version >= \"3.3\"->ipywidgets) (4.8.0)\n",
            "Requirement already satisfied: jupyter-core in /usr/local/lib/python3.7/dist-packages (from nbformat>=4.2.0->ipywidgets) (4.7.1)\n",
            "Requirement already satisfied: jsonschema!=2.5.0,>=2.4 in /usr/local/lib/python3.7/dist-packages (from nbformat>=4.2.0->ipywidgets) (2.6.0)\n",
            "Requirement already satisfied: notebook>=4.4.1 in /usr/local/lib/python3.7/dist-packages (from widgetsnbextension~=3.5.0->ipywidgets) (5.3.1)\n",
            "Requirement already satisfied: requests in /usr/local/lib/python3.7/dist-packages (from image-attendant->numpy_image_widget) (2.23.0)\n",
            "Requirement already satisfied: six in /usr/local/lib/python3.7/dist-packages (from cycler>=0.10->matplotlib->pyclesperanto_prototype) (1.15.0)\n",
            "Requirement already satisfied: pyzmq>=13 in /usr/local/lib/python3.7/dist-packages (from jupyter-client->ipykernel>=4.5.1->ipywidgets) (22.0.3)\n",
            "Requirement already satisfied: wcwidth in /usr/local/lib/python3.7/dist-packages (from prompt-toolkit<2.0.0,>=1.0.4->ipython>=4.0.0; python_version >= \"3.3\"->ipywidgets) (0.2.5)\n",
            "Requirement already satisfied: ptyprocess>=0.5 in /usr/local/lib/python3.7/dist-packages (from pexpect; sys_platform != \"win32\"->ipython>=4.0.0; python_version >= \"3.3\"->ipywidgets) (0.7.0)\n",
            "Requirement already satisfied: nbconvert in /usr/local/lib/python3.7/dist-packages (from notebook>=4.4.1->widgetsnbextension~=3.5.0->ipywidgets) (5.6.1)\n",
            "Requirement already satisfied: Send2Trash in /usr/local/lib/python3.7/dist-packages (from notebook>=4.4.1->widgetsnbextension~=3.5.0->ipywidgets) (1.5.0)\n",
            "Requirement already satisfied: jinja2 in /usr/local/lib/python3.7/dist-packages (from notebook>=4.4.1->widgetsnbextension~=3.5.0->ipywidgets) (2.11.3)\n",
            "Requirement already satisfied: terminado>=0.8.1 in /usr/local/lib/python3.7/dist-packages (from notebook>=4.4.1->widgetsnbextension~=3.5.0->ipywidgets) (0.10.0)\n",
            "Requirement already satisfied: idna<3,>=2.5 in /usr/local/lib/python3.7/dist-packages (from requests->image-attendant->numpy_image_widget) (2.10)\n",
            "Requirement already satisfied: chardet<4,>=3.0.2 in /usr/local/lib/python3.7/dist-packages (from requests->image-attendant->numpy_image_widget) (3.0.4)\n",
            "Requirement already satisfied: urllib3!=1.25.0,!=1.25.1,<1.26,>=1.21.1 in /usr/local/lib/python3.7/dist-packages (from requests->image-attendant->numpy_image_widget) (1.24.3)\n",
            "Requirement already satisfied: certifi>=2017.4.17 in /usr/local/lib/python3.7/dist-packages (from requests->image-attendant->numpy_image_widget) (2020.12.5)\n",
            "Requirement already satisfied: entrypoints>=0.2.2 in /usr/local/lib/python3.7/dist-packages (from nbconvert->notebook>=4.4.1->widgetsnbextension~=3.5.0->ipywidgets) (0.3)\n",
            "Requirement already satisfied: mistune<2,>=0.8.1 in /usr/local/lib/python3.7/dist-packages (from nbconvert->notebook>=4.4.1->widgetsnbextension~=3.5.0->ipywidgets) (0.8.4)\n",
            "Requirement already satisfied: defusedxml in /usr/local/lib/python3.7/dist-packages (from nbconvert->notebook>=4.4.1->widgetsnbextension~=3.5.0->ipywidgets) (0.7.1)\n",
            "Requirement already satisfied: pandocfilters>=1.4.1 in /usr/local/lib/python3.7/dist-packages (from nbconvert->notebook>=4.4.1->widgetsnbextension~=3.5.0->ipywidgets) (1.4.3)\n",
            "Requirement already satisfied: bleach in /usr/local/lib/python3.7/dist-packages (from nbconvert->notebook>=4.4.1->widgetsnbextension~=3.5.0->ipywidgets) (3.3.0)\n",
            "Requirement already satisfied: testpath in /usr/local/lib/python3.7/dist-packages (from nbconvert->notebook>=4.4.1->widgetsnbextension~=3.5.0->ipywidgets) (0.5.0)\n",
            "Requirement already satisfied: MarkupSafe>=0.23 in /usr/local/lib/python3.7/dist-packages (from jinja2->notebook>=4.4.1->widgetsnbextension~=3.5.0->ipywidgets) (2.0.1)\n",
            "Requirement already satisfied: webencodings in /usr/local/lib/python3.7/dist-packages (from bleach->nbconvert->notebook>=4.4.1->widgetsnbextension~=3.5.0->ipywidgets) (0.5.1)\n",
            "Requirement already satisfied: packaging in /usr/local/lib/python3.7/dist-packages (from bleach->nbconvert->notebook>=4.4.1->widgetsnbextension~=3.5.0->ipywidgets) (20.9)\n",
            "Building wheels for collected packages: transforms3d, pytools\n",
            "  Building wheel for transforms3d (setup.py) ... \u001b[?25l\u001b[?25hdone\n",
            "  Created wheel for transforms3d: filename=transforms3d-0.3.1-cp37-none-any.whl size=59374 sha256=3520acee18fd2252a98735cbe364a3190e386359a4eeca9a376b872e04f54f50\n",
            "  Stored in directory: /root/.cache/pip/wheels/3d/3c/84/28d36677f3c760c048bd02b5a547ea0c4027770cc9cdb9af1e\n",
            "  Building wheel for pytools (setup.py) ... \u001b[?25l\u001b[?25hdone\n",
            "  Created wheel for pytools: filename=pytools-2021.2.7-py2.py3-none-any.whl size=60644 sha256=c3e9ea744ca9d69e6a4d818886f0197a3e2b0f7888446abdcb97d12f854b101c\n",
            "  Stored in directory: /root/.cache/pip/wheels/a0/b5/e5/e65d25997fd77729b9aa214645add18688483e48bbcbab6ffc\n",
            "Successfully built transforms3d pytools\n",
            "\u001b[31mERROR: albumentations 0.1.12 has requirement imgaug<0.2.7,>=0.2.5, but you'll have imgaug 0.2.9 which is incompatible.\u001b[0m\n",
            "Installing collected packages: transforms3d, scikit-image, pytools, pyopencl, pyclesperanto-prototype, ipyevents, image-attendant, numpy-image-widget\n",
            "  Found existing installation: scikit-image 0.16.2\n",
            "    Uninstalling scikit-image-0.16.2:\n",
            "      Successfully uninstalled scikit-image-0.16.2\n",
            "Successfully installed image-attendant-2020.7.29 ipyevents-0.8.2 numpy-image-widget-2020.7.21 pyclesperanto-prototype-0.9.1 pyopencl-2021.2.2 pytools-2021.2.7 scikit-image-0.18.1 transforms3d-0.3.1\n"
          ],
          "name": "stdout"
        }
      ]
    },
    {
      "cell_type": "code",
      "metadata": {
        "id": "0NbhQZ6N7hXR",
        "colab": {
          "base_uri": "https://localhost:8080/"
        },
        "outputId": "53bb1aec-5053-47e8-f468-4b7f1aa5eab5"
      },
      "source": [
        "import pyclesperanto_prototype as cle\n",
        "\n",
        "cle.get_device()"
      ],
      "execution_count": 6,
      "outputs": [
        {
          "output_type": "execute_result",
          "data": {
            "text/plain": [
              "<Tesla T4 on Platform: NVIDIA CUDA (1 refs)>"
            ]
          },
          "metadata": {
            "tags": []
          },
          "execution_count": 6
        }
      ]
    },
    {
      "cell_type": "code",
      "metadata": {
        "id": "LUwuQ_Ha76f0",
        "colab": {
          "base_uri": "https://localhost:8080/"
        },
        "outputId": "20819274-fa8b-4fb7-857b-fcd3113405fd"
      },
      "source": [
        "from skimage.io import imread\n",
        "\n",
        "image = cle.push(imread('https://samples.fiji.sc/blobs.png'))\n",
        "image.shape"
      ],
      "execution_count": 7,
      "outputs": [
        {
          "output_type": "execute_result",
          "data": {
            "text/plain": [
              "(254, 256)"
            ]
          },
          "metadata": {
            "tags": []
          },
          "execution_count": 7
        }
      ]
    },
    {
      "cell_type": "markdown",
      "metadata": {
        "id": "pZiiPv8Ai6wk"
      },
      "source": [
        "The following function represents a image processing workflow using clesperanto."
      ]
    },
    {
      "cell_type": "code",
      "metadata": {
        "id": "vDHWm6T8ev0Y"
      },
      "source": [
        "def process_image(sigma : float):\n",
        "    blurred = cle.gaussian_blur(image, sigma_x=sigma, sigma_y=sigma)\n",
        "    binary = cle.threshold_otsu(blurred)\n",
        "    labels = cle.connected_components_labeling_box(binary)\n",
        "    return cle.maximum_images(image, cle.detect_label_edges(labels) * 255)"
      ],
      "execution_count": 8,
      "outputs": []
    },
    {
      "cell_type": "markdown",
      "metadata": {
        "id": "T5ytO5X7jCmI"
      },
      "source": [
        "We will now add a simple graphical user interface for tuning parameters of the specified workflow above."
      ]
    },
    {
      "cell_type": "code",
      "metadata": {
        "id": "lnfXEpSkf__P"
      },
      "source": [
        "import ipywidgets as widgets\n",
        "import numpy_image_widget as niw"
      ],
      "execution_count": 9,
      "outputs": []
    },
    {
      "cell_type": "code",
      "metadata": {
        "colab": {
          "base_uri": "https://localhost:8080/",
          "height": 279,
          "referenced_widgets": [
            "fdd56eea89ec483b919a0bb2c38876c4",
            "29b1f19b190d4d0782258155474e89c3"
          ]
        },
        "id": "tcjCsJlLgADC",
        "outputId": "781a1c96-faa6-491b-ebe7-34a2e26c4a61"
      },
      "source": [
        "# Add an image viewer\n",
        "blob_view = niw.NumpyImage(image)\n",
        "blob_view"
      ],
      "execution_count": 10,
      "outputs": [
        {
          "output_type": "display_data",
          "data": {
            "application/vnd.jupyter.widget-view+json": {
              "model_id": "fdd56eea89ec483b919a0bb2c38876c4",
              "version_minor": 0,
              "version_major": 2
            },
            "text/plain": [
              "NumpyImage(value=b'\\xff\\xd8\\xff\\xe0\\x00\\x10JFIF\\x00\\x01\\x01\\x00\\x00\\x01\\x00\\x01\\x00\\x00\\xff\\xdb\\x00C\\x00\\x05\\x…"
            ]
          },
          "metadata": {
            "tags": []
          }
        }
      ]
    },
    {
      "cell_type": "code",
      "metadata": {
        "colab": {
          "base_uri": "https://localhost:8080/",
          "height": 49,
          "referenced_widgets": [
            "f25741280e924c56b3c8a3a6388602ce",
            "d4102d2870364fbb86ffc6f7a3667d41",
            "98ba8d1ac0a5406da252d996990853f1"
          ]
        },
        "id": "7C_epyhFf3tt",
        "outputId": "b6170699-58d7-4ded-a98d-9085eafba943"
      },
      "source": [
        "# setup user interface for changing the sigma\n",
        "slider = widgets.FloatSlider(value=1, min=0, max=10)\n",
        "\n",
        "# event handler when the user changed something:\n",
        "def configuration_updated(event):\n",
        "    blob_view.data = process_image(slider.value)\n",
        "\n",
        "# connect user interface with event\n",
        "slider.observe(configuration_updated)\n",
        "\n",
        "# execute action once to update the viewer\n",
        "configuration_updated(None)\n",
        "\n",
        "slider"
      ],
      "execution_count": 11,
      "outputs": [
        {
          "output_type": "display_data",
          "data": {
            "application/vnd.jupyter.widget-view+json": {
              "model_id": "f25741280e924c56b3c8a3a6388602ce",
              "version_minor": 0,
              "version_major": 2
            },
            "text/plain": [
              "FloatSlider(value=1.0, max=10.0)"
            ]
          },
          "metadata": {
            "tags": []
          }
        }
      ]
    },
    {
      "cell_type": "code",
      "metadata": {
        "id": "ISjJU6Z_G1VS"
      },
      "source": [
        ""
      ],
      "execution_count": null,
      "outputs": []
    }
  ]
}
