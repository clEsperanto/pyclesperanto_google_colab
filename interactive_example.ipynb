{
  "nbformat": 4,
  "nbformat_minor": 0,
  "metadata": {
    "colab": {
      "name": "Untitled1.ipynb",
      "provenance": []
    },
    "kernelspec": {
      "name": "python3",
      "display_name": "Python 3"
    },
    "language_info": {
      "name": "python"
    },
    "accelerator": "GPU",
    "widgets": {
      "application/vnd.jupyter.widget-state+json": {
        "1b818c8a2bc74edbaf085e3983e8ff91": {
          "model_module": "@jupyter-widgets/controls",
          "model_name": "ImageModel",
          "state": {
            "_view_name": "ImageView",
            "_dom_classes": [],
            "_model_name": "ImageModel",
            "format": "jpeg",
            "_view_module": "@jupyter-widgets/controls",
            "_model_module_version": "1.5.0",
            "_view_count": null,
            "width": "",
            "_view_module_version": "1.5.0",
            "layout": "IPY_MODEL_cb0a0d4820c14fc282e9c7fcd98c87e1",
            "height": "",
            "_model_module": "@jupyter-widgets/controls"
          }
        },
        "cb0a0d4820c14fc282e9c7fcd98c87e1": {
          "model_module": "@jupyter-widgets/base",
          "model_name": "LayoutModel",
          "state": {
            "_view_name": "LayoutView",
            "grid_template_rows": null,
            "right": null,
            "justify_content": null,
            "_view_module": "@jupyter-widgets/base",
            "overflow": null,
            "_model_module_version": "1.2.0",
            "_view_count": null,
            "flex_flow": null,
            "width": null,
            "min_width": null,
            "border": null,
            "align_items": null,
            "bottom": null,
            "_model_module": "@jupyter-widgets/base",
            "top": null,
            "grid_column": null,
            "overflow_y": null,
            "overflow_x": null,
            "grid_auto_flow": null,
            "grid_area": null,
            "grid_template_columns": null,
            "flex": null,
            "_model_name": "LayoutModel",
            "justify_items": null,
            "grid_row": null,
            "max_height": null,
            "align_content": null,
            "visibility": null,
            "align_self": null,
            "height": null,
            "min_height": null,
            "padding": null,
            "grid_auto_rows": null,
            "grid_gap": null,
            "max_width": null,
            "order": null,
            "_view_module_version": "1.2.0",
            "grid_template_areas": null,
            "object_position": null,
            "object_fit": null,
            "grid_auto_columns": null,
            "margin": null,
            "display": null,
            "left": null
          }
        },
        "8de152ad3ed543109a9aa1dbaa81a33d": {
          "model_module": "@jupyter-widgets/controls",
          "model_name": "FloatSliderModel",
          "state": {
            "_view_name": "FloatSliderView",
            "style": "IPY_MODEL_e36c08fb6ff140aa80604e2eacd3f3d7",
            "_dom_classes": [],
            "description": "",
            "step": 0.1,
            "_model_name": "FloatSliderModel",
            "orientation": "horizontal",
            "max": 10,
            "_view_module": "@jupyter-widgets/controls",
            "_model_module_version": "1.5.0",
            "value": 0.6,
            "_view_count": null,
            "disabled": false,
            "_view_module_version": "1.5.0",
            "min": 0,
            "continuous_update": true,
            "readout_format": ".2f",
            "description_tooltip": null,
            "readout": true,
            "_model_module": "@jupyter-widgets/controls",
            "layout": "IPY_MODEL_84fdb038345749ddb91c061c52331cc0"
          }
        },
        "e36c08fb6ff140aa80604e2eacd3f3d7": {
          "model_module": "@jupyter-widgets/controls",
          "model_name": "SliderStyleModel",
          "state": {
            "_view_name": "StyleView",
            "handle_color": null,
            "_model_name": "SliderStyleModel",
            "description_width": "",
            "_view_module": "@jupyter-widgets/base",
            "_model_module_version": "1.5.0",
            "_view_count": null,
            "_view_module_version": "1.2.0",
            "_model_module": "@jupyter-widgets/controls"
          }
        },
        "84fdb038345749ddb91c061c52331cc0": {
          "model_module": "@jupyter-widgets/base",
          "model_name": "LayoutModel",
          "state": {
            "_view_name": "LayoutView",
            "grid_template_rows": null,
            "right": null,
            "justify_content": null,
            "_view_module": "@jupyter-widgets/base",
            "overflow": null,
            "_model_module_version": "1.2.0",
            "_view_count": null,
            "flex_flow": null,
            "width": null,
            "min_width": null,
            "border": null,
            "align_items": null,
            "bottom": null,
            "_model_module": "@jupyter-widgets/base",
            "top": null,
            "grid_column": null,
            "overflow_y": null,
            "overflow_x": null,
            "grid_auto_flow": null,
            "grid_area": null,
            "grid_template_columns": null,
            "flex": null,
            "_model_name": "LayoutModel",
            "justify_items": null,
            "grid_row": null,
            "max_height": null,
            "align_content": null,
            "visibility": null,
            "align_self": null,
            "height": null,
            "min_height": null,
            "padding": null,
            "grid_auto_rows": null,
            "grid_gap": null,
            "max_width": null,
            "order": null,
            "_view_module_version": "1.2.0",
            "grid_template_areas": null,
            "object_position": null,
            "object_fit": null,
            "grid_auto_columns": null,
            "margin": null,
            "display": null,
            "left": null
          }
        }
      }
    }
  },
  "cells": [
    {
      "cell_type": "code",
      "metadata": {
        "colab": {
          "base_uri": "https://localhost:8080/"
        },
        "id": "OpfVvxAK7LBB",
        "outputId": "0b57af37-505d-431e-8290-5a2d127e4536"
      },
      "source": [
        "!pip install pyclesperanto_prototype ipywidgets numpy_image_widget"
      ],
      "execution_count": 2,
      "outputs": [
        {
          "output_type": "stream",
          "text": [
            "Collecting pyclesperanto_prototype\n",
            "\u001b[?25l  Downloading https://files.pythonhosted.org/packages/55/ee/c9d3e04a4dc6d440762d663715256095341a8e35bee37c3d2438690345ba/pyclesperanto_prototype-0.9.1-py3-none-any.whl (547kB)\n",
            "\u001b[K     |████████████████████████████████| 552kB 35.1MB/s \n",
            "\u001b[?25hRequirement already satisfied: matplotlib in /usr/local/lib/python3.7/dist-packages (from pyclesperanto_prototype) (3.2.2)\n",
            "Collecting pyopencl\n",
            "\u001b[?25l  Downloading https://files.pythonhosted.org/packages/54/f3/dff518aac1a06c9f1a2e9f95c6914524162f1f70652649596861e85fafb3/pyopencl-2021.2.2-cp37-cp37m-manylinux_2_17_x86_64.manylinux2014_x86_64.whl (879kB)\n",
            "\u001b[K     |████████████████████████████████| 880kB 42.8MB/s \n",
            "\u001b[?25hRequirement already satisfied: numpy!=1.19.4 in /usr/local/lib/python3.7/dist-packages (from pyclesperanto_prototype) (1.19.5)\n",
            "Collecting scikit-image>=0.18.0\n",
            "\u001b[?25l  Downloading https://files.pythonhosted.org/packages/fe/01/3a830f3df578ea3ed94ee7fd9f91e85c3dec2431d8548ab1c91869e51450/scikit_image-0.18.1-cp37-cp37m-manylinux1_x86_64.whl (29.2MB)\n",
            "\u001b[K     |████████████████████████████████| 29.2MB 104kB/s \n",
            "\u001b[?25hRequirement already satisfied: toolz in /usr/local/lib/python3.7/dist-packages (from pyclesperanto_prototype) (0.11.1)\n",
            "Collecting transforms3d\n",
            "\u001b[?25l  Downloading https://files.pythonhosted.org/packages/b5/f7/e85809168a548a854d7c1331560c27b4f5381698d29c12e57759192b2bc1/transforms3d-0.3.1.tar.gz (62kB)\n",
            "\u001b[K     |████████████████████████████████| 71kB 11.5MB/s \n",
            "\u001b[?25hRequirement already satisfied: pyparsing!=2.0.4,!=2.1.2,!=2.1.6,>=2.0.1 in /usr/local/lib/python3.7/dist-packages (from matplotlib->pyclesperanto_prototype) (2.4.7)\n",
            "Requirement already satisfied: kiwisolver>=1.0.1 in /usr/local/lib/python3.7/dist-packages (from matplotlib->pyclesperanto_prototype) (1.3.1)\n",
            "Requirement already satisfied: cycler>=0.10 in /usr/local/lib/python3.7/dist-packages (from matplotlib->pyclesperanto_prototype) (0.10.0)\n",
            "Requirement already satisfied: python-dateutil>=2.1 in /usr/local/lib/python3.7/dist-packages (from matplotlib->pyclesperanto_prototype) (2.8.1)\n",
            "Requirement already satisfied: appdirs>=1.4.0 in /usr/local/lib/python3.7/dist-packages (from pyopencl->pyclesperanto_prototype) (1.4.4)\n",
            "Collecting pytools>=2017.6\n",
            "\u001b[?25l  Downloading https://files.pythonhosted.org/packages/52/26/c7ab098ceb4e4e3f0e66e21257a286bb455ea22af7afefbd704d9ccf324c/pytools-2021.2.7.tar.gz (63kB)\n",
            "\u001b[K     |████████████████████████████████| 71kB 11.7MB/s \n",
            "\u001b[?25hRequirement already satisfied: imageio>=2.3.0 in /usr/local/lib/python3.7/dist-packages (from scikit-image>=0.18.0->pyclesperanto_prototype) (2.4.1)\n",
            "Requirement already satisfied: tifffile>=2019.7.26 in /usr/local/lib/python3.7/dist-packages (from scikit-image>=0.18.0->pyclesperanto_prototype) (2021.4.8)\n",
            "Requirement already satisfied: PyWavelets>=1.1.1 in /usr/local/lib/python3.7/dist-packages (from scikit-image>=0.18.0->pyclesperanto_prototype) (1.1.1)\n",
            "Requirement already satisfied: scipy>=1.0.1 in /usr/local/lib/python3.7/dist-packages (from scikit-image>=0.18.0->pyclesperanto_prototype) (1.4.1)\n",
            "Requirement already satisfied: networkx>=2.0 in /usr/local/lib/python3.7/dist-packages (from scikit-image>=0.18.0->pyclesperanto_prototype) (2.5.1)\n",
            "Requirement already satisfied: pillow!=7.1.0,!=7.1.1,>=4.3.0 in /usr/local/lib/python3.7/dist-packages (from scikit-image>=0.18.0->pyclesperanto_prototype) (7.1.2)\n",
            "Requirement already satisfied: six in /usr/local/lib/python3.7/dist-packages (from cycler>=0.10->matplotlib->pyclesperanto_prototype) (1.15.0)\n",
            "Requirement already satisfied: decorator<5,>=4.3 in /usr/local/lib/python3.7/dist-packages (from networkx>=2.0->scikit-image>=0.18.0->pyclesperanto_prototype) (4.4.2)\n",
            "Building wheels for collected packages: transforms3d, pytools\n",
            "  Building wheel for transforms3d (setup.py) ... \u001b[?25l\u001b[?25hdone\n",
            "  Created wheel for transforms3d: filename=transforms3d-0.3.1-cp37-none-any.whl size=59374 sha256=c0819db4f8d19979aeb3efd06ac7488076aab7da5fbdc34339244d3482552506\n",
            "  Stored in directory: /root/.cache/pip/wheels/3d/3c/84/28d36677f3c760c048bd02b5a547ea0c4027770cc9cdb9af1e\n",
            "  Building wheel for pytools (setup.py) ... \u001b[?25l\u001b[?25hdone\n",
            "  Created wheel for pytools: filename=pytools-2021.2.7-py2.py3-none-any.whl size=60644 sha256=0e1ef55566be51ec04a543e1f8ceb0e9402b367330dc64cf52d746037e94b6c9\n",
            "  Stored in directory: /root/.cache/pip/wheels/a0/b5/e5/e65d25997fd77729b9aa214645add18688483e48bbcbab6ffc\n",
            "Successfully built transforms3d pytools\n",
            "\u001b[31mERROR: albumentations 0.1.12 has requirement imgaug<0.2.7,>=0.2.5, but you'll have imgaug 0.2.9 which is incompatible.\u001b[0m\n",
            "Installing collected packages: pytools, pyopencl, scikit-image, transforms3d, pyclesperanto-prototype\n",
            "  Found existing installation: scikit-image 0.16.2\n",
            "    Uninstalling scikit-image-0.16.2:\n",
            "      Successfully uninstalled scikit-image-0.16.2\n",
            "Successfully installed pyclesperanto-prototype-0.9.1 pyopencl-2021.2.2 pytools-2021.2.7 scikit-image-0.18.1 transforms3d-0.3.1\n"
          ],
          "name": "stdout"
        }
      ]
    },
    {
      "cell_type": "code",
      "metadata": {
        "id": "0NbhQZ6N7hXR"
      },
      "source": [
        "import pyclesperanto_prototype as cle\n",
        "\n",
        "dev = cle.get_device()"
      ],
      "execution_count": 3,
      "outputs": []
    },
    {
      "cell_type": "code",
      "metadata": {
        "id": "LUwuQ_Ha76f0",
        "colab": {
          "base_uri": "https://localhost:8080/"
        },
        "outputId": "75f7e469-9bdd-4d5e-e8a8-b6fb486cfd57"
      },
      "source": [
        "from skimage.io import imread\n",
        "\n",
        "image = cle.push(imread('https://samples.fiji.sc/blobs.png'))\n",
        "image.shape"
      ],
      "execution_count": 4,
      "outputs": [
        {
          "output_type": "execute_result",
          "data": {
            "text/plain": [
              "(254, 256)"
            ]
          },
          "metadata": {
            "tags": []
          },
          "execution_count": 4
        }
      ]
    },
    {
      "cell_type": "code",
      "metadata": {
        "id": "vDHWm6T8ev0Y"
      },
      "source": [
        "def process_image(sigma : float):\n",
        "    blurred = cle.gaussian_blur(image, sigma_x=sigma, sigma_y=sigma)\n",
        "    binary = cle.threshold_otsu(blurred)\n",
        "    labels = cle.connected_components_labeling_box(binary)\n",
        "    return cle.maximum_images(image, cle.detect_label_edges(labels) * 255)"
      ],
      "execution_count": 38,
      "outputs": []
    },
    {
      "cell_type": "code",
      "metadata": {
        "id": "lnfXEpSkf__P"
      },
      "source": [
        "import ipywidgets as widgets\n",
        "import numpy_image_widget as niw"
      ],
      "execution_count": 39,
      "outputs": []
    },
    {
      "cell_type": "code",
      "metadata": {
        "colab": {
          "base_uri": "https://localhost:8080/",
          "height": 279,
          "referenced_widgets": [
            "1b818c8a2bc74edbaf085e3983e8ff91",
            "cb0a0d4820c14fc282e9c7fcd98c87e1"
          ]
        },
        "id": "tcjCsJlLgADC",
        "outputId": "71735a69-56fb-4057-9b1f-96807c30e2d8"
      },
      "source": [
        "blob_view = niw.NumpyImage(image)\n",
        "blob_view"
      ],
      "execution_count": 40,
      "outputs": [
        {
          "output_type": "display_data",
          "data": {
            "application/vnd.jupyter.widget-view+json": {
              "model_id": "1b818c8a2bc74edbaf085e3983e8ff91",
              "version_minor": 0,
              "version_major": 2
            },
            "text/plain": [
              "NumpyImage(value=b'\\xff\\xd8\\xff\\xe0\\x00\\x10JFIF\\x00\\x01\\x01\\x00\\x00\\x01\\x00\\x01\\x00\\x00\\xff\\xdb\\x00C\\x00\\x05\\x…"
            ]
          },
          "metadata": {
            "tags": []
          }
        }
      ]
    },
    {
      "cell_type": "code",
      "metadata": {
        "colab": {
          "base_uri": "https://localhost:8080/",
          "height": 49,
          "referenced_widgets": [
            "8de152ad3ed543109a9aa1dbaa81a33d",
            "e36c08fb6ff140aa80604e2eacd3f3d7",
            "84fdb038345749ddb91c061c52331cc0"
          ]
        },
        "id": "7C_epyhFf3tt",
        "outputId": "f9a75359-f598-4f40-d418-520f059b2f40"
      },
      "source": [
        "# setup user interface for changing the sigma\n",
        "slider = widgets.FloatSlider(value=1, min=0, max=10)\n",
        "\n",
        "# event handler when the user changed something:\n",
        "def configuration_updated(event):\n",
        "    blob_view.data = process_image(slider.value)\n",
        "\n",
        "# connect user interface with event\n",
        "slider.observe(configuration_updated)\n",
        "\n",
        "# execute action once to update the viewer\n",
        "configuration_updated(None)\n",
        "\n",
        "slider"
      ],
      "execution_count": 44,
      "outputs": [
        {
          "output_type": "display_data",
          "data": {
            "application/vnd.jupyter.widget-view+json": {
              "model_id": "8de152ad3ed543109a9aa1dbaa81a33d",
              "version_minor": 0,
              "version_major": 2
            },
            "text/plain": [
              "FloatSlider(value=1.0, max=10.0)"
            ]
          },
          "metadata": {
            "tags": []
          }
        }
      ]
    },
    {
      "cell_type": "code",
      "metadata": {
        "id": "ISjJU6Z_G1VS"
      },
      "source": [
        ""
      ],
      "execution_count": null,
      "outputs": []
    }
  ]
}